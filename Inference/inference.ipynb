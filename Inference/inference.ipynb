{
  "nbformat": 4,
  "nbformat_minor": 0,
  "metadata": {
    "colab": {
      "provenance": []
    },
    "kernelspec": {
      "name": "python3",
      "display_name": "Python 3"
    },
    "language_info": {
      "name": "python"
    }
  },
  "cells": [
    {
      "cell_type": "markdown",
      "source": [
        "# Imports Section"
      ],
      "metadata": {
        "id": "wYFCO_k0QUTU"
      }
    },
    {
      "cell_type": "code",
      "execution_count": null,
      "metadata": {
        "id": "D3979GSPkVEL"
      },
      "outputs": [],
      "source": [
        "!pip install ultralytics\n",
        "import ultralytics\n",
        "from ultralytics import YOLO\n",
        "import numpy as np\n",
        "import cv2 as cv\n",
        "!pip install \"paddleocr==2.2\"\n",
        "!pip install paddlepaddle\n",
        "import matplotlib.pyplot as plt \n",
        "from paddleocr import PaddleOCR,draw_ocr\n"
      ]
    },
    {
      "cell_type": "markdown",
      "source": [
        "# Helper Function Definition\n",
        "\n"
      ],
      "metadata": {
        "id": "V0S-yG4jQXnQ"
      }
    },
    {
      "cell_type": "code",
      "source": [
        "# Orders points in a particular way\n",
        "def order_points(pts, x, y):\n",
        "    rect = np.zeros((4, 2), dtype = \"float32\")\n",
        "    s = pts.sum(axis = 2)\n",
        "    rect[0] = pts[np.argmin(s)]\n",
        "    rect[2] = pts[np.argmax(s)]\n",
        "    diff = np.diff(pts, axis = 2)\n",
        "    rect[1] = pts[np.argmin(diff)]\n",
        "    rect[3] = pts[np.argmax(diff)]\n",
        "    rect[0][0]-=5 #if rect[0][0]>=5 else rect[0][0]\n",
        "    rect[0][1]-=5 #if rect[0][1]>=5 else rect[0][1]\n",
        "    rect[2][0]+=5 #if rect[2][0]<=x-5 else rect[2][0]\n",
        "    rect[2][1]+=5 #if rect[2][1]<=y-5 else rect[2][1]\n",
        "    rect[1][0]+=5 #if rect[1][0]<=x-5 else rect[1][0]\n",
        "    rect[1][1]-=5 #if rect[1][1]>=5 else rect[1][1]\n",
        "    rect[3][0]-=5 #if rect[3][0]>=5 else rect[3][0]\n",
        "    rect[3][1]+=5 #if rect[3][1]<=y-5 else rect[3][1]\n",
        "    return rect"
      ],
      "metadata": {
        "id": "SXNqpvjL2KsH"
      },
      "execution_count": 159,
      "outputs": []
    },
    {
      "cell_type": "markdown",
      "source": [
        "# Inference Function\n",
        "Extract the model files from the zip files, and upload to colab.\n",
        "\n",
        "Then add the filepaths.\n",
        "\n",
        "seg_path should contain the path to the weights of the segmentation model.\n",
        "\n",
        "det_path should contain the path to the weights of the detection model.\n",
        "\n",
        "Run the below cell to load models. Then the inference function can be used."
      ],
      "metadata": {
        "id": "7Cxdu7bQAhNn"
      }
    },
    {
      "cell_type": "code",
      "source": [
        "seg_model=YOLO('')\n",
        "det_model=YOLO('')\n",
        "name_dict=det_model.names\n",
        "ocr=PaddleOCR(use_angle_cls=True,lang='en')"
      ],
      "metadata": {
        "colab": {
          "base_uri": "https://localhost:8080/"
        },
        "id": "G55T_nJ7At6x",
        "outputId": "2256dceb-c2f8-4f2f-96c3-579031040861"
      },
      "execution_count": 186,
      "outputs": [
        {
          "output_type": "stream",
          "name": "stdout",
          "text": [
            "Namespace(benchmark=False, cls_batch_num=6, cls_image_shape='3, 48, 192', cls_model_dir='/root/.paddleocr/2.2/ocr/cls/ch_ppocr_mobile_v2.0_cls_infer', cls_thresh=0.9, cpu_threads=10, det=True, det_algorithm='DB', det_db_box_thresh=0.5, det_db_score_mode='fast', det_db_thresh=0.3, det_db_unclip_ratio=1.6, det_east_cover_thresh=0.1, det_east_nms_thresh=0.2, det_east_score_thresh=0.8, det_limit_side_len=960, det_limit_type='max', det_model_dir='/root/.paddleocr/2.2/ocr/det/en/en_ppocr_mobile_v2.0_det_infer', det_sast_nms_thresh=0.2, det_sast_polygon=False, det_sast_score_thresh=0.5, drop_score=0.5, e2e_algorithm='PGNet', e2e_char_dict_path='./ppocr/utils/ic15_dict.txt', e2e_limit_side_len=768, e2e_limit_type='max', e2e_model_dir=None, e2e_pgnet_mode='fast', e2e_pgnet_polygon=True, e2e_pgnet_score_thresh=0.5, e2e_pgnet_valid_set='totaltext', enable_mkldnn=False, gpu_mem=500, help='==SUPPRESS==', image_dir=None, ir_optim=True, label_list=['0', '180'], lang='en', layout_path_model='lp://PubLayNet/ppyolov2_r50vd_dcn_365e_publaynet/config', max_batch_size=10, max_text_length=25, min_subgraph_size=10, output='./output/table', precision='fp32', process_id=0, rec=True, rec_algorithm='CRNN', rec_batch_num=6, rec_char_dict_path='/usr/local/lib/python3.8/dist-packages/paddleocr/ppocr/utils/en_dict.txt', rec_char_type='ch', rec_image_shape='3, 32, 320', rec_model_dir='/root/.paddleocr/2.2/ocr/rec/en/en_number_mobile_v2.0_rec_infer', save_log_path='./log_output/', show_log=True, table_char_dict_path=None, table_char_type='en', table_max_len=488, table_model_dir=None, total_process_num=1, type='ocr', use_angle_cls=True, use_dilation=False, use_gpu=True, use_mp=False, use_pdserving=False, use_space_char=True, use_tensorrt=False, vis_font_path='./doc/fonts/simfang.ttf', warmup=True)\n"
          ]
        }
      ]
    },
    {
      "cell_type": "code",
      "source": [
        "# The function below takes in a path to an image, or a numpy array and returns a dictionary with the values read from the image\n",
        "def inference(image):\n",
        "  name_dict=det_model.names\n",
        "  # Initialize dictionaries\n",
        "  labels={}\n",
        "  confidence={\"HR\":0, \"RR\":0, 'SBP':0, \"DBP\":0, \"SPO2\":0, \"MAP\":0, 'HR_W':0}\n",
        "  if isinstance(image,str):\n",
        "    img=cv.imread(image)\n",
        "  elif isinstance(image,np.ndarray):\n",
        "    img=image\n",
        "  # Get segmentation predictions\n",
        "  results = seg_model.predict(img,verbose=False)\n",
        "  # If segmention masks returned are not empty (i.e if image is not already segmented)\n",
        "  if len(results[0])!=0:\n",
        "    # Get segments and crop image\n",
        "    t=results[0].masks.segments\n",
        "    t=np.array(t)\n",
        "    t[0][:,0]=t[0][:,0]*(img.shape[1])\n",
        "    t[0][:,1]=t[0][:,1]*(img.shape[0])\n",
        "    c=np.int32(t[0].reshape(-1,1,2))\n",
        "    # Approximate segmentation segments with a quadrilateral\n",
        "    u=cv.approxPolyDP(c,0.04 * cv.arcLength(c, True), True)\n",
        "    # Order corners of the quadrilateral in a particular order\n",
        "    u=order_points(u,img.shape[1],img.shape[0])\n",
        "    size_x=720\n",
        "    size_y=512\n",
        "    pts2=np.float32([[0,0], [size_x, 0],[size_x, size_y], [0, size_y]])\n",
        "    # Apply perspective transform on the image to get an image to perform detection on\n",
        "    matrix = cv.getPerspectiveTransform(u.astype(np.float32), pts2)\n",
        "    seg = cv.warpPerspective(img, matrix, (size_x, size_y))\n",
        "  # If the image is already segmented then just run the image through detection\n",
        "  else:\n",
        "    seg=img\n",
        "  # Perform detetection with the detection model\n",
        "  det=det_model.predict(seg,verbose=False)[0].boxes\n",
        "  detxy=(det.xyxy.numpy()).astype(np.int32)\n",
        "  detcls=det.cls.numpy().astype(np.int32)\n",
        "  detconf=det.conf.numpy()\n",
        "  # Iterate over regions of interest detected and acquire OCR results, use highest confidence for each class\n",
        "  for i,j in enumerate(detcls):\n",
        "    if name_dict[j] !='HR_W' and confidence[name_dict[j]]<detconf[i]:\n",
        "      bb=seg[detxy[i,1]:detxy[i,3], detxy[i,0]: detxy[i,2]]\n",
        "      ocrres=ocr.ocr(bb, cls=False, det=False, rec= True)[0]\n",
        "      procres=ocrres[0]\n",
        "      confidence[name_dict[j]]=detconf[i]\n",
        "      if ocrres[1]>0.6:\n",
        "        # Process OCR result to correct some faults\n",
        "        pred=''\n",
        "        for char in procres:\n",
        "          if ord(char)>=ord('0') and ord(char)<=ord('9'):\n",
        "            pred+=char\n",
        "            continue\n",
        "          if char=='A':\n",
        "            pred+='4'\n",
        "          if char=='T':\n",
        "            pred+='7'\n",
        "          if char=='O'or char=='o':\n",
        "            pred+='0'\n",
        "        labels[name_dict[j]]= pred\n",
        "  # Applying checks to correct common faults\n",
        "  try:\n",
        "    if labels['SPO2']!=None:\n",
        "      try:\n",
        "        if int(labels['SPO2'])<50:\n",
        "          labels['SPO2'],labels['RR']=labels['RR'],labels['SPO2']\n",
        "      except:\n",
        "        labels['SPO2']=None\n",
        "    else:\n",
        "      if labels['RR']!=None:\n",
        "        if int(labels['RR'])>50:\n",
        "          labels['SPO2'],labels['RR']=labels['RR'],labels['SPO2']\n",
        "    if labels['SBP']!= None:\n",
        "      try:\n",
        "        if int(labels['SBP'])<50:\n",
        "          labels['SBP']='1'+labels['SBP']\n",
        "      except:\n",
        "        labels['SBP']=None\n",
        "    if labels['SBP']!= None and labels['DBP']!=None:\n",
        "      try:\n",
        "        if int(labels['DBP'])>int(labels['SBP']) and labels['DBP'][0]=='1':\n",
        "            labels['DBP']=labels['DBP'][1:]\n",
        "      except:\n",
        "        labels['DBP']=None\n",
        "  except:\n",
        "    pass\n",
        "  return labels"
      ],
      "metadata": {
        "id": "k6uHny0NAgz8"
      },
      "execution_count": 214,
      "outputs": []
    },
    {
      "cell_type": "markdown",
      "source": [
        "# HR digitization function"
      ],
      "metadata": {
        "id": "BruqcQdyFKQr"
      }
    },
    {
      "cell_type": "code",
      "source": [
        "# HR digitization. This function takes in a numpy array of the HR graph image. The Class function method below will take in an image of the monitor and give graph as well as inference.\n",
        "def digitize(img):\n",
        "  # convert the input image to grayscale\n",
        "  gray = cv.cvtColor(img, cv.COLOR_BGR2GRAY)\n",
        "  # apply thresholding to convert grayscale to binary image\n",
        "  ret,thresh = cv.threshold(gray,120,255,0)\n",
        "  # convert BGR to RGB to display using matplotlib\n",
        "  imgRGB = cv.cvtColor(img, cv.COLOR_BGR2RGB)# display Original, Grayscale and Binary Images\n",
        "  Npixels_rate,Npixels_time = np.shape(thresh)\n",
        "  #Selecting the longest chain of connected components\n",
        "  length_subarray=[]\n",
        "  for col in range(0,Npixels_rate):\n",
        "   length_subarray.append(len(np.where(thresh[col,:]==255)[0]))\n",
        "\n",
        "  max_index=length_subarray.index(max(length_subarray))\n",
        "\n",
        "  for i in range(max_index,len(length_subarray)-1):\n",
        "    if (length_subarray[i+1]>length_subarray[i]):\n",
        "      break\n",
        "\n",
        "  min_val= min(length_subarray[0:max_index])\n",
        "  min_index=length_subarray.index(min(length_subarray[0:max_index]))\n",
        "\n",
        "  new_length_subarray=[]\n",
        "  for j in range(min_index,i+1):\n",
        "    new_length_subarray.append(length_subarray[j])\n",
        "\n",
        "  thresh_crop=thresh[min_index:i+1, 0:Npixels_time]\n",
        "  new_rate,new_time=np.shape(thresh_crop)\n",
        "\n",
        " #Extract the time series (not the scale bars) by starting in the first column\n",
        "  col_in_time_series = False\n",
        "  s1rate_pixelss = []\n",
        "  col = 0\n",
        "  for col in range(0,Npixels_time):\n",
        "    if len(np.where(thresh_crop[:,col]==255)[0]):\n",
        "        s1rate_pixelss.append(np.mean(np.where(thresh_crop[:,col]==255)[0]))\n",
        "    \n",
        "    \n",
        "  s1rate_pixelss = np.array(s1rate_pixelss)\n",
        "\n",
        "  # Visualize time series\n",
        "  plt.figure(figsize=(12,3.8))\n",
        "  plt.plot(s1rate_pixelss,'k',linewidth=3)\n",
        "  plt.xlim((0,Npixels_time))\n",
        "  plt.ylim((new_rate,0))\n",
        "  plt.xlabel('Time (pixels)',size=20)\n",
        "  plt.ylabel('Heart rate Voltage(pixels)',size=20)\n",
        "  plt.title(\"Time Series Signal of HR\")\n",
        "  plt.grid()\n",
        "\n",
        "  # Scaling the heart rate voltage\n",
        "  s1rate = s1rate_pixelss*0.2\n",
        "\n",
        "  # Convert time from pixels to ms\n",
        "  pixels = np.arange(len(s1rate_pixelss))\n",
        "  t = pixels*0.02\n",
        "\n",
        "  # Visualize re-scaled time series\n",
        "  plt.figure(figsize=(12,2))\n",
        "  plt.plot(t, s1rate,'k',linewidth=3)\n",
        "  plt.gca().invert_yaxis()\n",
        "  plt.title(\"Scaled Time Series Signal of HR\")\n",
        "  plt.xlabel('Time (sec)',size=20)\n",
        "  plt.ylabel('Heart rate Voltage (mV)',size=20)\n",
        "  plt.grid()"
      ],
      "metadata": {
        "id": "V7iJjxCsBwqt"
      },
      "execution_count": 204,
      "outputs": []
    },
    {
      "cell_type": "markdown",
      "source": [
        "Imgpath should contain path to image"
      ],
      "metadata": {
        "id": "YM95lXKkEzZp"
      }
    },
    {
      "cell_type": "code",
      "source": [
        "inf=inference('')\n",
        "print(inf)"
      ],
      "metadata": {
        "colab": {
          "base_uri": "https://localhost:8080/"
        },
        "id": "EgINFbmdB7cV",
        "outputId": "5f38b942-e6fb-4aa2-9f6f-dedb37920f08"
      },
      "execution_count": 215,
      "outputs": [
        {
          "output_type": "stream",
          "name": "stdout",
          "text": [
            "{'SPO2': '100', 'HR': '81', 'SBP': '131', 'DBP': '83', 'MAP': '94', 'RR': '12'}\n"
          ]
        }
      ]
    },
    {
      "cell_type": "markdown",
      "source": [
        "# Class for inference"
      ],
      "metadata": {
        "id": "f09CYLEN_qw7"
      }
    },
    {
      "cell_type": "code",
      "source": [
        "class extraction:\n",
        "  \n",
        "  # Object initialization\n",
        "\n",
        "  def __init__(self, seg_path, det_path):\n",
        "    self.seg_model=YOLO(seg_path)\n",
        "    self.det_model=YOLO(det_path)\n",
        "    self.name_dict=self.det_model.names\n",
        "    self.ocr=PaddleOCR(use_angle_cls=True,lang='en')\n",
        "\n",
        "    # Inference function\n",
        "    # The function below takes in a path to an image, or a numpy array and returns a dictionary with the values read from the image.\n",
        "\n",
        "  def inference(self, image, mode='labels'):\n",
        "    # Initialize dictionaries\n",
        "    labels={}\n",
        "    confidence={\"HR\":0, \"RR\":0, 'SBP':0, \"DBP\":0, \"SPO2\":0, \"MAP\":0, 'HR_W':0}\n",
        "\n",
        "    if isinstance(image,str):\n",
        "      img=cv.imread(image)\n",
        "    elif isinstance(image,np.ndarray):\n",
        "      img=image\n",
        "\n",
        "    # Get segmentation predictions\n",
        "    results = self.seg_model.predict(img,verbose=False)\n",
        "    # If segmention masks returned are not empty (i.e if image is not already segmented)\n",
        "\n",
        "    if len(results[0])!=0:\n",
        "\n",
        "      # Get segments and crop image\n",
        "      t=results[0].masks.segments\n",
        "      t=np.array(t)\n",
        "      t[0][:,0]=t[0][:,0]*(img.shape[1])\n",
        "      t[0][:,1]=t[0][:,1]*(img.shape[0])\n",
        "      c=np.int32(t[0].reshape(-1,1,2))\n",
        "\n",
        "      # Approximate segmentation segments with a quadrilateral\n",
        "      u=cv.approxPolyDP(c,0.04 * cv.arcLength(c, True), True)\n",
        "\n",
        "      # Order corners of the quadrilateral in a particular order\n",
        "      u=order_points(u,img.shape[1],img.shape[0])\n",
        "      size_x=720\n",
        "      size_y=512\n",
        "      pts2=np.float32([[0,0], [size_x, 0],[size_x, size_y], [0, size_y]])\n",
        "\n",
        "      # Apply perspective transform on the image to get an image to perform detection on\n",
        "      matrix = cv.getPerspectiveTransform(u.astype(np.float32), pts2)\n",
        "      seg = cv.warpPerspective(img, matrix, (size_x, size_y))\n",
        "\n",
        "    # If the image is already segmented then just run the image through detection\n",
        "    else:\n",
        "      seg=img\n",
        "\n",
        "    # Perform detetection with the detection model\n",
        "    det=self.det_model.predict(seg,verbose=False)[0].boxes\n",
        "    detxy=(det.xyxy.numpy()).astype(np.int32)\n",
        "    detcls=det.cls.numpy().astype(np.int32)\n",
        "    detconf=det.conf.numpy()\n",
        "\n",
        "    # Iterate over regions of interest detected and acquire OCR results if mode='labels', else if mode= 'graphs' plots a graph, use highest confidence for each class\n",
        "    for i,j in enumerate(detcls):\n",
        "\n",
        "      # Graph digitization function, only when mode='graphs'. Plots a graph\n",
        "      if self.name_dict[j]== 'HR_W' and confidence[self.name_dict[j]]<detconf[i]:\n",
        "        if mode=='graph':\n",
        "          hr_graph = seg[detxy[i,1]:detxy[i,3], detxy[i,0]: detxy[i,2]]\n",
        "          self.digitize(hr_graph)\n",
        "\n",
        "      # Default case, returns dictionary with detected values\n",
        "      elif self.name_dict[j] != 'HR_W' and confidence[self.name_dict[j]]<detconf[i]:\n",
        "        bb=seg[detxy[i,1]:detxy[i,3], detxy[i,0]: detxy[i,2]]\n",
        "\n",
        "        # Get OCR result\n",
        "        ocrres=self.ocr.ocr(bb, cls=False, det=False, rec= True)[0]\n",
        "        procres=ocrres[0]\n",
        "        confidence[self.name_dict[j]]=detconf[i]\n",
        "        if ocrres[1]>0.6:\n",
        "\n",
        "          # Process OCR result to correct some faults\n",
        "          pred=''\n",
        "          for char in procres:\n",
        "            if ord(char)>=ord('0') and ord(char)<=ord('9'):\n",
        "              pred+=char\n",
        "              continue\n",
        "            if char=='A':\n",
        "              pred+='4'\n",
        "            if char=='T':\n",
        "              pred+='7'\n",
        "            if char=='O'or char=='o':\n",
        "              pred+='0'\n",
        "          labels[self.name_dict[j]]= pred\n",
        "\n",
        "    # Applying checks to correct common faults\n",
        "    try:\n",
        "      if labels['SPO2']!=None:\n",
        "        try:\n",
        "          if int(labels['SPO2'])<50:\n",
        "            labels['SPO2'],labels['RR']=labels['RR'],labels['SPO2']\n",
        "        except:\n",
        "          labels['SPO2']=None\n",
        "      else:\n",
        "        if labels['RR']!=None:\n",
        "          if int(labels['RR'])>50:\n",
        "            labels['SPO2'],labels['RR']=labels['RR'],labels['SPO2']\n",
        "      if labels['SBP']!= None:\n",
        "        try:\n",
        "          if int(labels['SBP'])<50:\n",
        "            labels['SBP']='1'+labels['SBP']\n",
        "        except:\n",
        "          labels['SBP']=None\n",
        "      if labels['SBP']!= None and labels['DBP']!=None:\n",
        "        try:\n",
        "          if int(labels['DBP'])>int(labels['SBP']) and labels['DBP'][0]=='1':\n",
        "              labels['DBP']=labels['DBP'][1:]\n",
        "        except:\n",
        "          labels['DBP']=None\n",
        "    except:\n",
        "      pass\n",
        "    return labels\n",
        "\n",
        "  # HR Graph Digitization Function\n",
        "  def digitize(self,img):\n",
        "    # convert the input image to grayscale\n",
        "    gray = cv.cvtColor(img, cv.COLOR_BGR2GRAY)\n",
        "    # apply thresholding to convert grayscale to binary image\n",
        "    ret,thresh = cv.threshold(gray,120,255,0)\n",
        "    # convert BGR to RGB to display using matplotlib\n",
        "    imgRGB = cv.cvtColor(img, cv.COLOR_BGR2RGB)# display Original, Grayscale and Binary Images\n",
        "    Npixels_rate,Npixels_time = np.shape(thresh)\n",
        "    #Selecting the longest chain of connected components\n",
        "    length_subarray=[]\n",
        "    for col in range(0,Npixels_rate):\n",
        "      length_subarray.append(len(np.where(thresh[col,:]==255)[0]))\n",
        "\n",
        "    max_index=length_subarray.index(max(length_subarray))\n",
        "\n",
        "    for i in range(max_index,len(length_subarray)-1):\n",
        "      if (length_subarray[i+1]>length_subarray[i]):\n",
        "        break\n",
        "\n",
        "    min_val= min(length_subarray[0:max_index])\n",
        "    min_index=length_subarray.index(min(length_subarray[0:max_index]))\n",
        "\n",
        "    new_length_subarray=[]\n",
        "    for j in range(min_index,i+1):\n",
        "      new_length_subarray.append(length_subarray[j])\n",
        "\n",
        "    thresh_crop=thresh[min_index:i+1, 0:Npixels_time]\n",
        "    new_rate,new_time=np.shape(thresh_crop)\n",
        "\n",
        "  #Extract the time series (not the scale bars) by starting in the first column\n",
        "    col_in_time_series = False\n",
        "    s1rate_pixelss = []\n",
        "    col = 0\n",
        "    for col in range(0,Npixels_time):\n",
        "      if len(np.where(thresh_crop[:,col]==255)[0]):\n",
        "          s1rate_pixelss.append(np.mean(np.where(thresh_crop[:,col]==255)[0]))\n",
        "      \n",
        "      \n",
        "    s1rate_pixelss = np.array(s1rate_pixelss)\n",
        "\n",
        "    # Visualize time series\n",
        "    plt.figure(figsize=(12,3.8))\n",
        "    plt.plot(s1rate_pixelss,'k',linewidth=3)\n",
        "    plt.xlim((0,Npixels_time))\n",
        "    plt.ylim((new_rate,0))\n",
        "    plt.xlabel('Time (pixels)',size=20)\n",
        "    plt.ylabel('Heart rate Voltage(pixels)',size=20)\n",
        "    plt.title(\"Time Series Signal of HR\")\n",
        "    plt.grid()\n",
        "\n",
        "    # Scaling the heart rate voltage\n",
        "    s1rate = s1rate_pixelss*0.2\n",
        "\n",
        "    # Convert time from pixels to ms\n",
        "    pixels = np.arange(len(s1rate_pixelss))\n",
        "    t = pixels*0.02\n",
        "\n",
        "    # Visualize re-scaled time series\n",
        "    plt.figure(figsize=(12,2))\n",
        "    plt.plot(t, s1rate,'k',linewidth=3)\n",
        "    plt.gca().invert_yaxis()\n",
        "    plt.title(\"Scaled Time Series Signal of HR\")\n",
        "    plt.xlabel('Time (sec)',size=20)\n",
        "    plt.ylabel('Heart rate Voltage (mV)',size=20)\n",
        "    plt.grid()\n",
        "\n",
        "\n"
      ],
      "metadata": {
        "id": "A08ZIjsED6Et"
      },
      "execution_count": 140,
      "outputs": []
    },
    {
      "cell_type": "markdown",
      "source": [
        "# How to Use:\n",
        "First, create an object as follows (Run the below cell) :\n",
        "\n",
        "This step will take some time, it will load the weights and download weights for the OCR model.\n",
        "Add the model files from the zip, and upload to colab.\n",
        "\n",
        "Then add the filepaths.\n",
        "\n",
        "seg_path should contain the path to the weights of the segmentation model.\n",
        "\n",
        "det_path should contain the path to the weights of the detection model."
      ],
      "metadata": {
        "id": "V0q-weR_V9Qe"
      }
    },
    {
      "cell_type": "code",
      "source": [
        "seg_path=''\n",
        "det_path=''\n",
        "\n",
        "# Initialize object\n",
        "extr = extraction(seg_path, det_path)"
      ],
      "metadata": {
        "colab": {
          "base_uri": "https://localhost:8080/"
        },
        "id": "_mZPOrbfV8t8",
        "outputId": "d0fa4313-a319-4765-858a-10d565b8afc1"
      },
      "execution_count": 160,
      "outputs": [
        {
          "output_type": "stream",
          "name": "stdout",
          "text": [
            "Namespace(benchmark=False, cls_batch_num=6, cls_image_shape='3, 48, 192', cls_model_dir='/root/.paddleocr/2.2/ocr/cls/ch_ppocr_mobile_v2.0_cls_infer', cls_thresh=0.9, cpu_threads=10, det=True, det_algorithm='DB', det_db_box_thresh=0.5, det_db_score_mode='fast', det_db_thresh=0.3, det_db_unclip_ratio=1.6, det_east_cover_thresh=0.1, det_east_nms_thresh=0.2, det_east_score_thresh=0.8, det_limit_side_len=960, det_limit_type='max', det_model_dir='/root/.paddleocr/2.2/ocr/det/en/en_ppocr_mobile_v2.0_det_infer', det_sast_nms_thresh=0.2, det_sast_polygon=False, det_sast_score_thresh=0.5, drop_score=0.5, e2e_algorithm='PGNet', e2e_char_dict_path='./ppocr/utils/ic15_dict.txt', e2e_limit_side_len=768, e2e_limit_type='max', e2e_model_dir=None, e2e_pgnet_mode='fast', e2e_pgnet_polygon=True, e2e_pgnet_score_thresh=0.5, e2e_pgnet_valid_set='totaltext', enable_mkldnn=False, gpu_mem=500, help='==SUPPRESS==', image_dir=None, ir_optim=True, label_list=['0', '180'], lang='en', layout_path_model='lp://PubLayNet/ppyolov2_r50vd_dcn_365e_publaynet/config', max_batch_size=10, max_text_length=25, min_subgraph_size=10, output='./output/table', precision='fp32', process_id=0, rec=True, rec_algorithm='CRNN', rec_batch_num=6, rec_char_dict_path='/usr/local/lib/python3.8/dist-packages/paddleocr/ppocr/utils/en_dict.txt', rec_char_type='ch', rec_image_shape='3, 32, 320', rec_model_dir='/root/.paddleocr/2.2/ocr/rec/en/en_number_mobile_v2.0_rec_infer', save_log_path='./log_output/', show_log=True, table_char_dict_path=None, table_char_type='en', table_max_len=488, table_model_dir=None, total_process_num=1, type='ocr', use_angle_cls=True, use_dilation=False, use_gpu=True, use_mp=False, use_pdserving=False, use_space_char=True, use_tensorrt=False, vis_font_path='./doc/fonts/simfang.ttf', warmup=True)\n"
          ]
        }
      ]
    },
    {
      "cell_type": "markdown",
      "source": [
        "Then, call the labels inference function as follows:\n",
        "\n",
        "(Imgpath is the path to the image. You can also input a numpy array.)"
      ],
      "metadata": {
        "id": "Xt17fX1sWFqF"
      }
    },
    {
      "cell_type": "code",
      "source": [
        "Imgpath=''\n",
        "results = extr.inference(Imgpath, mode='labels')"
      ],
      "metadata": {
        "id": "1oLVWfUfVNG_"
      },
      "execution_count": 195,
      "outputs": []
    },
    {
      "cell_type": "markdown",
      "source": [
        "If mode ='labels', the inference function returns a dictionary with the detected labels.\n",
        "\n",
        "If mode = 'graph', the inference function also displays the digitized HR graph while returning a dictionary. (Inference times may be slightly higher)"
      ],
      "metadata": {
        "id": "I2i_pVK8WqZW"
      }
    },
    {
      "cell_type": "code",
      "source": [
        "# Display Results\n",
        "results"
      ],
      "metadata": {
        "colab": {
          "base_uri": "https://localhost:8080/"
        },
        "id": "CtzN9oIBXchf",
        "outputId": "f07ae0fe-759b-43e2-a15f-bb37d3596a37"
      },
      "execution_count": 196,
      "outputs": [
        {
          "output_type": "execute_result",
          "data": {
            "text/plain": [
              "{'SPO2': '100', 'SBP': '104', 'HR': '62', 'DBP': '79', 'MAP': '88', 'RR': '12'}"
            ]
          },
          "metadata": {},
          "execution_count": 196
        }
      ]
    },
    {
      "cell_type": "code",
      "source": [
        "# Graph mode shows a graph and returns a dictionary\n",
        "graph_mode=extr.inference(Imgpath, mode='graph')\n",
        "print(graph_mode)"
      ],
      "metadata": {
        "colab": {
          "base_uri": "https://localhost:8080/",
          "height": 534
        },
        "id": "Un19erQ1Wpwd",
        "outputId": "65a8a171-f7a7-40fd-b7b9-2465174ce78d"
      },
      "execution_count": 197,
      "outputs": [
        {
          "output_type": "stream",
          "name": "stdout",
          "text": [
            "{'SPO2': '100', 'SBP': '104', 'HR': '62', 'DBP': '79', 'MAP': '88', 'RR': '12'}\n"
          ]
        },
        {
          "output_type": "display_data",
          "data": {
            "text/plain": [
              "<Figure size 864x273.6 with 1 Axes>"
            ],
            "image/png": "[encoded data removed]"
          },
          "metadata": {
            "needs_background": "light"
          }
        },
        {
          "output_type": "display_data",
          "data": {
            "text/plain": [
              "<Figure size 864x144 with 1 Axes>"
            ],
            "image/png": "[encoded data removed]"
          },
          "metadata": {
            "needs_background": "light"
          }
        }
      ]
    }
  ]
}