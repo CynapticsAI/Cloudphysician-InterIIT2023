{
  "cells": [
    {
      "cell_type": "code",
      "execution_count": null,
      "metadata": {
        "colab": {
          "base_uri": "https://localhost:8080/"
        },
        "id": "k_WeDDhhK0Tu",
        "outputId": "613a6d42-acf1-488c-e1e2-eab18e8d1d39"
      },
      "outputs": [
        {
          "name": "stdout",
          "output_type": "stream",
          "text": [
            "Drive already mounted at /content/drive; to attempt to forcibly remount, call drive.mount(\"/content/drive\", force_remount=True).\n",
            "Drive already mounted at /content/drive; to attempt to forcibly remount, call drive.mount(\"/content/drive\", force_remount=True).\n"
          ]
        }
      ],
      "source": [
        "from google.colab import drive\n",
        "drive.mount('/content/drive')"
      ]
    },
    {
      "cell_type": "code",
      "execution_count": null,
      "metadata": {
        "colab": {
          "base_uri": "https://localhost:8080/",
          "height": 35
        },
        "id": "GqrSJ4VgIm2G",
        "outputId": "0fde4781-26a6-49a5-b130-3293964640d8"
      },
      "outputs": [
        {
          "data": {
            "application/vnd.google.colaboratory.intrinsic+json": {
              "type": "string"
            },
            "text/plain": [
              "'/content'"
            ]
          },
          "execution_count": 4,
          "metadata": {},
          "output_type": "execute_result"
        }
      ],
      "source": [
        "import os\n",
        "os.getcwd()"
      ]
    },
    {
      "cell_type": "code",
      "execution_count": null,
      "metadata": {
        "colab": {
          "base_uri": "https://localhost:8080/"
        },
        "id": "umx5n6s6Kgze",
        "outputId": "bf7a0159-b068-4831-f468-b4498cf50dda"
      },
      "outputs": [
        {
          "data": {
            "text/plain": [
              "9000"
            ]
          },
          "execution_count": 25,
          "metadata": {},
          "output_type": "execute_result"
        }
      ],
      "source": [
        "len(os.listdir('/content/drive/MyDrive/Cloudphysician/datasets/yolo unlabbeled dataset/dataset/train/images'))"
      ]
    },
    {
      "cell_type": "code",
      "execution_count": null,
      "metadata": {
        "id": "Qu0eaR3kN_vp"
      },
      "outputs": [],
      "source": [
        "from tqdm import tqdm"
      ]
    },
    {
      "cell_type": "code",
      "execution_count": null,
      "metadata": {
        "id": "MbCv5KWiIt1l"
      },
      "outputs": [],
      "source": [
        "!pip install ultralytics\n",
        "!pip install -U albumentations"
      ]
    },
    {
      "cell_type": "code",
      "execution_count": null,
      "metadata": {
        "id": "sNwzKTsfIw3L"
      },
      "outputs": [],
      "source": [
        "import cv2 as cv \n",
        "import os\n",
        "import albumentations as A\n",
        "import torch\n",
        "from ultralytics import YOLO"
      ]
    },
    {
      "cell_type": "code",
      "execution_count": null,
      "metadata": {
        "id": "9gtaw2ZLMUVm"
      },
      "outputs": [],
      "source": [
        "os.listdir(non_aug_folder)"
      ]
    },
    {
      "cell_type": "code",
      "execution_count": null,
      "metadata": {
        "id": "C0T48t4cI-rn"
      },
      "outputs": [],
      "source": [
        "Teacher=YOLO(Teacher_model_path)\n",
        "Student=YOLO(Student_model_path)"
      ]
    },
    {
      "cell_type": "code",
      "execution_count": null,
      "metadata": {
        "id": "0yxsyGymIDdI"
      },
      "outputs": [],
      "source": [
        "Teacher_model_path='/content/drive/MyDrive/Cloudphysician/weights for yolov8 /best_annotatedv8s.pt'\n",
        "Student_model_path='/content/drive/MyDrive/Cloudphysician/weights for yolov8 /best_annotatedv8s.pt'\n",
        "non_aug_folder='/content/drive/MyDrive/Cloudphysician/datasets/yolo unlabbeled dataset/dataset/train/non_aug'\n",
        "data_yaml='/content/drive/MyDrive/Cloudphysician/datasets/yolo unlabbeled dataset/dataset/data.yaml'\n",
        "aug_folder='/content/drive/MyDrive/Cloudphysician/datasets/yolo unlabbeled dataset/dataset/train/images'\n",
        "label_folder='/content/drive/MyDrive/Cloudphysician/datasets/yolo unlabbeled dataset/dataset/train/labels'\n",
        "Fake_dataset='/content/drive/MyDrive/Cloudphysician/datasets/yolo unlabbeled dataset/dummy_dataset/data.yaml'"
      ]
    },
    {
      "cell_type": "code",
      "execution_count": null,
      "metadata": {
        "id": "kN7ZYVvNJEI1"
      },
      "outputs": [],
      "source": [
        "def Teacher_relabel(images_path,labels_path,Teacher,threshold=0):\n",
        "  if type(Teacher) == str:Teacher=YOLO(Teacher)##if string is passed\n",
        "  list_images=os.listdir(images_path)\n",
        "  for images in tqdm(list_images):\n",
        "    try:\n",
        "      result = Teacher(images_path+'/'+images)\n",
        "      result=result[0].cpu().numpy()\n",
        "      with open(labels_path+'/'+images[:-4]+'txt','w') as f:\n",
        "        for boundingbox in result.boxes:\n",
        "            if boundingbox.conf[0]>threshold:\n",
        "              f.write(str(int(boundingbox.cls[0]))+' ')\n",
        "              f.write(str(list(boundingbox.xywhn[0]))[1:-1].replace(',',' ')+'\\n')\n",
        "    except:\n",
        "      print('not valid image')"
      ]
    },
    {
      "cell_type": "code",
      "execution_count": null,
      "metadata": {
        "id": "ISKjBOAAJE0M"
      },
      "outputs": [],
      "source": [
        "def transfer(src, dest):\n",
        "  listimgs= os.listdir(src);\n",
        "  for i in tqdm(listimgs):\n",
        "    try:\n",
        "      images = (cv.imread(os.path.join(src, i)))\n",
        "      transform = A.Compose([\n",
        "          A.PixelDropout(0.03,True,p=0.7),\n",
        "          A.ColorJitter (brightness=0.4, contrast=0.4, saturation=0.9, hue=0.5, p=0.6),\n",
        "          A.GaussNoise (var_limit=(10.0, 50.0), mean=5, per_channel=True, p=0.6),\n",
        "          A.Downscale(scale_min=0.5, scale_max=0.5,interpolation=cv.INTER_NEAREST, p=0.6)\n",
        "      ])\n",
        "      images=transform(image=images)[\"image\"]\n",
        "      path= os.path.join(dest, i)\n",
        "      if(os.path.exists(dest)):\n",
        "        cv.imwrite(path, images)\n",
        "      else:\n",
        "        os.makedirs(dest)\n",
        "        cv.imwrite(path, images)\n",
        "    except:\n",
        "      print('not valid image')\n",
        "    "
      ]
    },
    {
      "cell_type": "code",
      "execution_count": null,
      "metadata": {
        "id": "JCDIwPnwJKV9"
      },
      "outputs": [],
      "source": [
        "def Train_children(yaml_file,student,epochs):\n",
        "  if type(student)==str: student =YOLO(student)\n",
        "  student.train(data=yaml_file, epochs=epochs, imgsz=384,augment=False)"
      ]
    },
    {
      "cell_type": "code",
      "execution_count": null,
      "metadata": {
        "id": "6Bl_sULCJLR_"
      },
      "outputs": [],
      "source": [
        "def change_weights(Teacher,Student,alp):\n",
        "        for (teacher_layer,teacher_value), (student_layer,student_value) in zip(Teacher.model.named_parameters(),Student.model.named_parameters()):\n",
        "            values = weight_proc(teacher_value,student_value,alp)\n",
        "            teacher_value.data = values"
      ]
    },
    {
      "cell_type": "code",
      "execution_count": null,
      "metadata": {
        "id": "nHB3MR9hJR_g"
      },
      "outputs": [],
      "source": [
        "def weight_proc(x,y,alp):\n",
        "  #define a wight manipualting function\n",
        "  return torch.mul(x,alp).cuda()+torch.mul(y,1-alp).cuda()\n"
      ]
    },
    {
      "cell_type": "code",
      "execution_count": null,
      "metadata": {
        "colab": {
          "background_save": true
        },
        "id": "80IzVrMFJjnS"
      },
      "outputs": [],
      "source": [
        "Teacher.to('cuda')\n",
        "Student.to('cuda')\n",
        "for i in tqdm(range(15)):\n",
        "  %time Teacher_relabel(non_aug_folder,label_folder,Teacher,0.7)\n",
        "  %time  transfer(non_aug_folder,aug_folder)\n",
        "  %time  Train_children(data_yaml,Student,10)\n",
        "  %time  Train_children(Fake_dataset,Teacher,1)\n",
        "  %time  Teacher.to('cuda')\n",
        "  %time  Student.to('cuda')\n",
        "  %time  change_weights(Teacher,Student,0.95)"
      ]
    },
    {
      "cell_type": "markdown",
      "metadata": {
        "id": "bgKOiY0fYCu7"
      },
      "source": []
    }
  ],
  "metadata": {
    "colab": {
      "provenance": [],
      "machine_shape": "hm"
    },
    "gpuClass": "premium",
    "kernelspec": {
      "display_name": "Python 3",
      "name": "python3"
    },
    "language_info": {
      "name": "python"
    }
  },
  "nbformat": 4,
  "nbformat_minor": 0
}